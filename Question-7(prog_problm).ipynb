{
 "cells": [
  {
   "cell_type": "code",
   "execution_count": 8,
   "id": "074ad7d0-db25-4cd5-8074-458df99779da",
   "metadata": {},
   "outputs": [],
   "source": [
    "#1.\tUse sklearn.tree.DecisionTreeClassifier on the Iris dataset.\n",
    "from sklearn.datasets import load_iris\n",
    "from sklearn.tree import DecisionTreeClassifier\n",
    "from sklearn.model_selection import train_test_split\n",
    "from sklearn.metrics import accuracy_score\n",
    "\n",
    "# Load data\n",
    "iris = load_iris()\n",
    "X, y = iris.data, iris.target\n",
    "\n",
    "# Split 70% train / 30% test\n",
    "X_train, X_test, y_train, y_test = train_test_split(\n",
    "    X, y, test_size=0.3, random_state=42, stratify=y\n",
    ")\n"
   ]
  },
  {
   "cell_type": "code",
   "execution_count": 9,
   "id": "aa92d99f-56bf-4f5d-a459-03de42202dba",
   "metadata": {},
   "outputs": [
    {
     "name": "stdout",
     "output_type": "stream",
     "text": [
      "Depth 1: Train Accuracy = 0.67, Test Accuracy = 0.67\n",
      "Depth 2: Train Accuracy = 0.97, Test Accuracy = 0.89\n",
      "Depth 3: Train Accuracy = 0.98, Test Accuracy = 0.98\n"
     ]
    }
   ],
   "source": [
    "#2.\tTrain trees with max_depth = 1, 2, 3.\n",
    "depths = [1, 2, 3]\n",
    "for depth in depths:\n",
    "    clf = DecisionTreeClassifier(max_depth=depth, random_state=42)\n",
    "    clf.fit(X_train, y_train)\n",
    "\n",
    "    train_acc = accuracy_score(y_train, clf.predict(X_train))\n",
    "    test_acc = accuracy_score(y_test, clf.predict(X_test))\n",
    "\n",
    "    print(f\"Depth {depth}: Train Accuracy = {train_acc:.2f}, Test Accuracy = {test_acc:.2f}\")\n"
   ]
  },
  {
   "cell_type": "code",
   "execution_count": null,
   "id": "9687d043-bb77-497a-a4d1-553cd882dcf2",
   "metadata": {},
   "outputs": [],
   "source": [
    "#3.\tReport training and test accuracy for each depth.\n",
    "Max Depth\tTraining Accuracy\tTest Accuracy\n",
    "1\t            ~0.67\t             ~0.67\n",
    "2\t            ~0.97\t             ~0.89\n",
    "3\t            ~0.98\t             ~0.98"
   ]
  },
  {
   "cell_type": "code",
   "execution_count": null,
   "id": "fd3c07a4-a683-46c3-a9d3-a0d5444f73c7",
   "metadata": {},
   "outputs": [],
   "source": [
    "#4.\tDiscuss signs of underfitting vs overfitting.\n",
    "Underfitting vs Overfitting\n",
    "Depth = 1:\n",
    "    ->Low accuracy on both train and test sets.\n",
    "    ->Model is too simple → Underfitting.\n",
    "    ->Fails to capture patterns in the data.\n",
    "\n",
    "Depth = 2:\n",
    "    ->High accuracy on both sets.\n",
    "    ->Good generalization → Ideal complexity.\n",
    "\n",
    "Depth = 3:\n",
    "    ->Slightly higher training accuracy, but test accuracy plateaus.\n",
    "    ->Risk of Overfitting begins to appear.\n",
    "    ->Model may start memorizing training data."
   ]
  }
 ],
 "metadata": {
  "kernelspec": {
   "display_name": "Python 3 (ipykernel)",
   "language": "python",
   "name": "python3"
  },
  "language_info": {
   "codemirror_mode": {
    "name": "ipython",
    "version": 3
   },
   "file_extension": ".py",
   "mimetype": "text/x-python",
   "name": "python",
   "nbconvert_exporter": "python",
   "pygments_lexer": "ipython3",
   "version": "3.13.5"
  }
 },
 "nbformat": 4,
 "nbformat_minor": 5
}
