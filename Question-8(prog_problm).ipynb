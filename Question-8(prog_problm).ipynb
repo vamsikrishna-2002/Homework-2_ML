{
 "cells": [
  {
   "cell_type": "code",
   "execution_count": 8,
   "id": "ec010fb2-daff-4cda-ace1-9784ee63fe65",
   "metadata": {},
   "outputs": [],
   "source": [
    "#1.Use sklearn.neighbors.KNeighborsClassifier on the Iris dataset (only 2 features: sepal length, sepal width).\n",
    "import numpy as np\n",
    "import matplotlib.pyplot as plt\n",
    "from sklearn import neighbors, datasets\n",
    "from matplotlib.colors import ListedColormap\n",
    "\n",
    "# Load Iris dataset\n",
    "iris = datasets.load_iris()\n",
    "X = iris.data[:, :2]   # only sepal length & sepal width\n",
    "y = iris.target\n"
   ]
  },
  {
   "cell_type": "code",
   "execution_count": null,
   "id": "3c11e915-a205-4119-ab16-7e3ea7682be3",
   "metadata": {},
   "outputs": [],
   "source": [
    "#2.Train models with k=1,3,5,10.\n",
    "n_neighbors = [1, 3, 5, 10]\n",
    "\n",
    "# Set color maps\n",
    "cmap_light = ListedColormap([\"#FFAAAA\", \"#AAFFAA\", \"#AAAAFF\"])\n",
    "cmap_bold  = [\"red\", \"green\", \"blue\"]\n",
    "\n",
    "# Plotting\n",
    "fig, axes = plt.subplots(2, 2, figsize=(12, 10))\n",
    "\n",
    "for idx, k in enumerate(n_neighbors):\n",
    "    clf = neighbors.KNeighborsClassifier(n_neighbors=k)\n",
    "    clf.fit(X, y)\n",
    "    \n",
    "    # Step size in mesh\n",
    "    h = .02  \n",
    "    x_min, x_max = X[:, 0].min() - 1, X[:, 0].max() + 1\n",
    "    y_min, y_max = X[:, 1].min() - 1, X[:, 1].max() + 1\n",
    "    xx, yy = np.meshgrid(np.arange(x_min, x_max, h),\n",
    "                         np.arange(y_min, y_max, h))\n",
    "    \n",
    "    Z = clf.predict(np.c_[xx.ravel(), yy.ravel()])\n",
    "    Z = Z.reshape(xx.shape)\n",
    "    \n",
    "    ax = axes[idx // 2, idx % 2]\n",
    "    ax.contourf(xx, yy, Z, cmap=cmap_light)\n",
    "    \n",
    "    # Plot training points\n",
    "    for i, color in zip(range(3), cmap_bold):\n",
    "        ax.scatter(X[y == i, 0], X[y == i, 1],\n",
    "                   c=color, label=iris.target_names[i],\n",
    "                   edgecolor=\"k\", s=30)\n",
    "    \n",
    "    ax.set_title(f\"k = {k}\")\n",
    "    ax.set_xlabel(\"Sepal length\")\n",
    "    ax.set_ylabel(\"Sepal width\")\n",
    "    ax.legend()\n",
    "    \n",
    "plt.tight_layout()\n",
    "plt.show()"
   ]
  },
  {
   "cell_type": "code",
   "execution_count": null,
   "id": "7dc9dd5e-4055-461c-acb2-8c8bda83037f",
   "metadata": {},
   "outputs": [],
   "source": [
    "\n",
    "What you’ll see (Decision Boundaries):\n",
    "\n",
    "k=1:\n",
    "    ->Very jagged, irregular boundaries.\n",
    "    ->Class regions follow training points closely.\n",
    "    ->Model overfits.\n",
    "\n",
    "k=3:\n",
    "    ->Boundaries smoother, some noise reduced.\n",
    "    ->Still captures local patterns.\n",
    "\n",
    "k=5:\n",
    "    ->Even smoother decision regions.\n",
    "    ->Better generalization than k=1.\n",
    "\n",
    "k=10:\n",
    "    ->Very smooth, broad regions.\n",
    "    ->May underfit — ignores finer distinctions."
   ]
  },
  {
   "cell_type": "code",
   "execution_count": null,
   "id": "5ca32752-87a6-40bd-bda6-4d78cb2a0638",
   "metadata": {},
   "outputs": [],
   "source": [
    "Comment:\n",
    "As k increases, decision boundaries go from complex and jagged (overfitting) → to smooth and generalized (risk of underfitting). \n",
    "The choice of k is a trade-off between bias and variance."
   ]
  }
 ],
 "metadata": {
  "kernelspec": {
   "display_name": "Python 3 (ipykernel)",
   "language": "python",
   "name": "python3"
  },
  "language_info": {
   "codemirror_mode": {
    "name": "ipython",
    "version": 3
   },
   "file_extension": ".py",
   "mimetype": "text/x-python",
   "name": "python",
   "nbconvert_exporter": "python",
   "pygments_lexer": "ipython3",
   "version": "3.13.5"
  }
 },
 "nbformat": 4,
 "nbformat_minor": 5
}
